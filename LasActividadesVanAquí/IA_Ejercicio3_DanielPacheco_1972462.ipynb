{
  "nbformat": 4,
  "nbformat_minor": 0,
  "metadata": {
    "colab": {
      "name": "IA_Ejercicio3_DanielPacheco_1972462.ipynb",
      "provenance": [],
      "collapsed_sections": []
    },
    "kernelspec": {
      "name": "python3",
      "display_name": "Python 3"
    },
    "language_info": {
      "name": "python"
    }
  },
  "cells": [
    {
      "cell_type": "markdown",
      "source": [
        "A2: Ejercicios Básicos de Python\n",
        "Daniel Salvador Pacheco Villarreal 1972462\n",
        "N1-N3"
      ],
      "metadata": {
        "id": "TMUP5FYrg6Xa"
      }
    },
    {
      "cell_type": "markdown",
      "source": [
        "EJERCICIO 3"
      ],
      "metadata": {
        "id": "TZ7afuuukCrc"
      }
    },
    {
      "cell_type": "markdown",
      "source": [
        "Escribe una función que toma una lista de strings y los imprima línea por línea en un marco rectangular."
      ],
      "metadata": {
        "id": "2BAOv8fYndmx"
      }
    },
    {
      "cell_type": "code",
      "execution_count": 1,
      "metadata": {
        "colab": {
          "base_uri": "https://localhost:8080/"
        },
        "id": "eBm-eo3RfVs2",
        "outputId": "79978e1f-b3fe-4ded-e6e3-149260d076cd"
      },
      "outputs": [
        {
          "output_type": "stream",
          "name": "stdout",
          "text": [
            "**********\n",
            "*  Hola  *\n",
            "* a      *\n",
            "* todos  *\n",
            "* esto   *\n",
            "* es     *\n",
            "* un     *\n",
            "* marco  *  \n",
            "**********\n"
          ]
        }
      ],
      "source": [
        "list2 = [\"**********\",\"*  Hola  *\",\"* a      *\",\"* todos  *\",\"* esto   *\",\"* es     *\",\"* un     *\",\"* marco  *  \",\"**********\"]\n",
        "for x in list2:\n",
        "  print(x)"
      ]
    }
  ]
}