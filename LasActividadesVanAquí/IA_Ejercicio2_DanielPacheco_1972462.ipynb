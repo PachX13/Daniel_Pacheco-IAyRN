{
  "nbformat": 4,
  "nbformat_minor": 0,
  "metadata": {
    "colab": {
      "name": "IA_Ejercicio2_DanielPacheco_1972462.ipynb",
      "provenance": [],
      "collapsed_sections": []
    },
    "kernelspec": {
      "name": "python3",
      "display_name": "Python 3"
    },
    "language_info": {
      "name": "python"
    }
  },
  "cells": [
    {
      "cell_type": "markdown",
      "source": [
        "A2: Ejercicios Básicos de Python\n",
        "Daniel Salvador Pacheco Villarreal 1972462\n",
        "N1-N3"
      ],
      "metadata": {
        "id": "BWVrzOY4dEmo"
      }
    },
    {
      "cell_type": "markdown",
      "source": [
        "EJERCICIO 2"
      ],
      "metadata": {
        "id": "M5SPFZjQj6ol"
      }
    },
    {
      "cell_type": "markdown",
      "source": [
        "Escribe una función que regrese el último elemento de una lista y que revierta el orden de la lista e imprima la lista revertida.\n",
        "\n"
      ],
      "metadata": {
        "id": "sSlD7tJonaiU"
      }
    },
    {
      "cell_type": "code",
      "execution_count": 1,
      "metadata": {
        "colab": {
          "base_uri": "https://localhost:8080/"
        },
        "id": "NyixQnjOc1_v",
        "outputId": "2a95e3dc-6d44-4861-ef0e-8907844ae472"
      },
      "outputs": [
        {
          "output_type": "stream",
          "name": "stdout",
          "text": [
            "['Clash Royale', 'Fifa', 'Call of Duty', 'Halo', 'Minecraft']\n"
          ]
        }
      ],
      "source": [
        "list1 = [\"Minecraft\", \"Halo\", \"Call of Duty\", \"Fifa\", \"Clash Royale\"]\n",
        "print(list(reversed(list1)))"
      ]
    }
  ]
}