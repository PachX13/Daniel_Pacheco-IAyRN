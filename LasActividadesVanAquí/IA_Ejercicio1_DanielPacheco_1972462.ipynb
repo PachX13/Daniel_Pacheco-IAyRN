{
  "nbformat": 4,
  "nbformat_minor": 0,
  "metadata": {
    "colab": {
      "name": "IA_Ejercicio1_DanielPacheco_1972462.ipynb",
      "provenance": [],
      "collapsed_sections": []
    },
    "kernelspec": {
      "name": "python3",
      "display_name": "Python 3"
    },
    "language_info": {
      "name": "python"
    }
  },
  "cells": [
    {
      "cell_type": "markdown",
      "source": [
        "A2: Ejercicios Básicos de Python\n",
        "Daniel Salvador Pacheco Villarreal 1972462\n",
        "N1-N3"
      ],
      "metadata": {
        "id": "3COlnWSvpZAW"
      }
    },
    {
      "cell_type": "markdown",
      "source": [
        "EJERCICIO 1"
      ],
      "metadata": {
        "id": "91hEReQAjtuc"
      }
    },
    {
      "cell_type": "markdown",
      "source": [
        "Escribe un programa que le pida al usuario por su nombre y que lo salude con su nombre, excepto si se llama “Ana”, “Juan”, y “Pedro”."
      ],
      "metadata": {
        "id": "L7-6EAJ5nTY7"
      }
    },
    {
      "cell_type": "code",
      "source": [
        "from typing_extensions import Annotated\n",
        "nombre = input(\"Ingrese su nombre: \")\n",
        "if nombre == \"Ana\":\n",
        "  print(\"El nombre ingresado no es valido\")\n",
        "elif nombre == \"Juan\":\n",
        "  print(\"El nombre ingresado no es valido\")\n",
        "elif nombre == \"Pedro\":\n",
        "  print(\"El nombre ingresado no es valido\")\n",
        "else:\n",
        "  print(\"Hola\",nombre)"
      ],
      "metadata": {
        "colab": {
          "base_uri": "https://localhost:8080/"
        },
        "id": "nGoWQ87lTuNm",
        "outputId": "14948594-6df1-41b2-b54c-6b38011001f6"
      },
      "execution_count": 34,
      "outputs": [
        {
          "output_type": "stream",
          "name": "stdout",
          "text": [
            "Ingrese su nombre: Daniel\n",
            "Hola Daniel\n"
          ]
        }
      ]
    },
    {
      "cell_type": "markdown",
      "source": [
        "EJERCICIO 2"
      ],
      "metadata": {
        "id": "OvB9ddY1uUAZ"
      }
    },
    {
      "cell_type": "markdown",
      "source": [
        "Escribe una función que regrese el último elemento de una lista y que revierta el orden de la lista e imprima la lista revertida."
      ],
      "metadata": {
        "id": "fWqt_cDauTji"
      }
    },
    {
      "cell_type": "code",
      "source": [
        "list1 = [\"Minecraft\", \"Halo\", \"Call of Duty\", \"Fifa\", \"Clash Royale\"]\n",
        "print(list(reversed(list1)))"
      ],
      "metadata": {
        "colab": {
          "base_uri": "https://localhost:8080/"
        },
        "id": "sMSl0g5PuTGh",
        "outputId": "5ffe1b56-b3db-4b18-9ca4-5bd96fe5f66e"
      },
      "execution_count": 43,
      "outputs": [
        {
          "output_type": "stream",
          "name": "stdout",
          "text": [
            "['Clash Royale', 'Fifa', 'Call of Duty', 'Halo', 'Minecraft']\n"
          ]
        }
      ]
    },
    {
      "cell_type": "markdown",
      "source": [
        "EJERCICIO 3"
      ],
      "metadata": {
        "id": "-106Y6yRuOy3"
      }
    },
    {
      "cell_type": "markdown",
      "source": [
        "Escribe una función que toma una lista de strings y los imprima línea por línea en un marco rectangular."
      ],
      "metadata": {
        "id": "pA8jsL6puId_"
      }
    },
    {
      "cell_type": "code",
      "source": [
        "list2 = [\"**********\",\"*  Hola  *\",\"* a      *\",\"* todos  *\",\"* esto   *\",\"* es     *\",\"* un     *\",\"* marco  *  \",\"**********\"]\n",
        "for x in list2:\n",
        "  print(x)"
      ],
      "metadata": {
        "colab": {
          "base_uri": "https://localhost:8080/"
        },
        "id": "NEiRO9z4uGei",
        "outputId": "56245d18-53b4-45a4-99a9-c798af078b0f"
      },
      "execution_count": 44,
      "outputs": [
        {
          "output_type": "stream",
          "name": "stdout",
          "text": [
            "**********\n",
            "*  Hola  *\n",
            "* a      *\n",
            "* todos  *\n",
            "* esto   *\n",
            "* es     *\n",
            "* un     *\n",
            "* marco  *  \n",
            "**********\n"
          ]
        }
      ]
    }
  ]
}