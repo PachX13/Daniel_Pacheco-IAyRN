{
  "nbformat": 4,
  "nbformat_minor": 0,
  "metadata": {
    "colab": {
      "name": "IA_Ejercicio1_DanielPacheco_1972462.ipynb",
      "provenance": [],
      "collapsed_sections": []
    },
    "kernelspec": {
      "name": "python3",
      "display_name": "Python 3"
    },
    "language_info": {
      "name": "python"
    }
  },
  "cells": [
    {
      "cell_type": "markdown",
      "source": [
        "A2: Ejercicios Básicos de Python\n",
        "Daniel Salvador Pacheco Villarreal 1972462\n",
        "N1-N3"
      ],
      "metadata": {
        "id": "3COlnWSvpZAW"
      }
    },
    {
      "cell_type": "markdown",
      "source": [
        "EJERCICIO 1"
      ],
      "metadata": {
        "id": "91hEReQAjtuc"
      }
    },
    {
      "cell_type": "markdown",
      "source": [
        "Escribe un programa que le pida al usuario por su nombre y que lo salude con su nombre, excepto si se llama “Ana”, “Juan”, y “Pedro”."
      ],
      "metadata": {
        "id": "L7-6EAJ5nTY7"
      }
    },
    {
      "cell_type": "code",
      "source": [
        "from typing_extensions import Annotated\n",
        "nombre = input(\"Ingrese su nombre: \")\n",
        "if nombre == \"Ana\":\n",
        "  print(\"El nombre ingresado no es valido\")\n",
        "elif nombre == \"Juan\":\n",
        "  print(\"El nombre ingresado no es valido\")\n",
        "elif nombre == \"Pedro\":\n",
        "  print(\"El nombre ingresado no es valido\")\n",
        "else:\n",
        "  print(\"Hola\",nombre)"
      ],
      "metadata": {
        "colab": {
          "base_uri": "https://localhost:8080/"
        },
        "id": "nGoWQ87lTuNm",
        "outputId": "14948594-6df1-41b2-b54c-6b38011001f6"
      },
      "execution_count": 34,
      "outputs": [
        {
          "output_type": "stream",
          "name": "stdout",
          "text": [
            "Ingrese su nombre: Daniel\n",
            "Hola Daniel\n"
          ]
        }
      ]
    }
  ]
}